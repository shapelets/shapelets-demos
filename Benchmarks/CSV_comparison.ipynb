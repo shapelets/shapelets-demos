{
 "cells": [
  {
   "cell_type": "code",
   "execution_count": null,
   "metadata": {},
   "outputs": [],
   "source": [
    "from shapelets.data import sandbox\n",
    "\n",
    "# Convert parquet to CSV\n",
    "sandbox().from_parquet(\"taxis\", [\"../Benchmarks/nyc-taxi/2009/01/*.parquet\"]).to_csv('sample.csv')"
   ]
  },
  {
   "cell_type": "markdown",
   "metadata": {},
   "source": [
    "### Pandas"
   ]
  },
  {
   "cell_type": "code",
   "execution_count": 1,
   "id": "21ae8108",
   "metadata": {},
   "outputs": [],
   "source": [
    "import pandas as pd "
   ]
  },
  {
   "cell_type": "code",
   "execution_count": 2,
   "id": "e88c667f",
   "metadata": {},
   "outputs": [],
   "source": [
    "df = pd.read_csv('sample.csv')\n",
    "\n",
    "df['pickup_at'] = pd.to_datetime(df['pickup_at'])\n",
    "df = df.set_index('pickup_at')\n",
    "\n",
    "df.groupby([df.index.date,df.index.hour])['passenger_count'].mean()"
   ]
  },
  {
   "cell_type": "markdown",
   "metadata": {},
   "source": [
    "### Pandas with PyArrow engine"
   ]
  },
  {
   "cell_type": "code",
   "execution_count": null,
   "metadata": {},
   "outputs": [],
   "source": [
    "import pandas as pd "
   ]
  },
  {
   "cell_type": "code",
   "execution_count": null,
   "metadata": {},
   "outputs": [],
   "source": [
    "df = pd.read_csv('sample.csv', engine='pyarrow')\n",
    "\n",
    "df['pickup_at'] = pd.to_datetime(df['pickup_at'])\n",
    "df = df.set_index('pickup_at')\n",
    "\n",
    "df.groupby([df.index.date,df.index.hour])['passenger_count'].mean()"
   ]
  },
  {
   "cell_type": "markdown",
   "id": "cdb8f03e",
   "metadata": {},
   "source": [
    "### Polars"
   ]
  },
  {
   "cell_type": "code",
   "execution_count": null,
   "id": "f02ec9f8",
   "metadata": {},
   "outputs": [],
   "source": [
    "import polars as pl"
   ]
  },
  {
   "cell_type": "code",
   "execution_count": null,
   "id": "60b55f83",
   "metadata": {},
   "outputs": [],
   "source": [
    "data = pl.scan_parquet('../Benchmarks/nyc-taxi/2009/01/*.parquet')\n",
    "\n",
    "data.group_by(\n",
    "        [\n",
    "            pl.col(\"pickup_at\").cast(pl.Date).alias(\"pickup_at_date\"),\n",
    "            pl.col(\"pickup_at\").dt.hour().alias(\"pickup_at_hour\"),\n",
    "        ]\n",
    "    ).agg(pl.mean(\"passenger_count\")).collect()"
   ]
  },
  {
   "cell_type": "markdown",
   "id": "2f8c0e8a",
   "metadata": {},
   "source": [
    "### Shapelets"
   ]
  },
  {
   "cell_type": "code",
   "execution_count": null,
   "id": "86be020c",
   "metadata": {},
   "outputs": [],
   "source": [
    "from shapelets.data import sandbox"
   ]
  },
  {
   "cell_type": "code",
   "execution_count": null,
   "id": "887240f3",
   "metadata": {},
   "outputs": [],
   "source": [
    "playground = sandbox()\n",
    "\n",
    "taxis = playground.from_parquet(\"taxis\", [\"../Benchmarks/nyc-taxi/2009/01/*.parquet\"])\n",
    "\n",
    "result = playground.from_sql(\"\"\"\n",
    "    SELECT\n",
    "        AVG(passenger_count)                                                    \n",
    "    FROM taxis\n",
    "        GROUP BY extract('day' from dropoff_at), extract('hour' from dropoff_at)                                                                           \n",
    "\"\"\").execute()\n",
    "\n",
    "result.to_pandas()"
   ]
  }
 ],
 "metadata": {
  "kernelspec": {
   "display_name": "Python 3.10.8 ('venv': venv)",
   "language": "python",
   "name": "python3"
  },
  "language_info": {
   "codemirror_mode": {
    "name": "ipython",
    "version": 3
   },
   "file_extension": ".py",
   "mimetype": "text/x-python",
   "name": "python",
   "nbconvert_exporter": "python",
   "pygments_lexer": "ipython3",
   "version": "3.10.8"
  },
  "vscode": {
   "interpreter": {
    "hash": "dd91c1e9d90d869cb5f0a1c3df511ab2b748983196c071e5dcd476d229b12eea"
   }
  }
 },
 "nbformat": 4,
 "nbformat_minor": 5
}
