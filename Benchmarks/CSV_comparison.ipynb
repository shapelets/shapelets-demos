{
 "cells": [
  {
   "cell_type": "code",
   "execution_count": null,
   "metadata": {},
   "outputs": [],
   "source": [
    "from shapelets.data import sandbox\n",
    "\n",
    "# Convert parquet to CSV\n",
    "sandbox().from_parquet(\"taxis\", [\"../Benchmarks/nyc-taxi/2009/01/*.parquet\"]).to_csv('sample.csv')"
   ]
  },
  {
   "cell_type": "markdown",
   "metadata": {},
   "source": [
    "### Pandas"
   ]
  },
  {
   "cell_type": "code",
   "execution_count": 1,
   "id": "21ae8108",
   "metadata": {},
   "outputs": [],
   "source": [
    "import pandas as pd "
   ]
  },
  {
   "cell_type": "code",
   "execution_count": 2,
   "id": "e88c667f",
   "metadata": {},
   "outputs": [
    {
     "data": {
      "text/plain": [
       "            pickup_at\n",
       "2009-01-01  0            1.714221\n",
       "            1            1.723661\n",
       "            2            1.679692\n",
       "            3            1.644623\n",
       "            4            1.566899\n",
       "                           ...   \n",
       "2009-01-31  19           1.834419\n",
       "            20           1.841117\n",
       "            21           1.874803\n",
       "            22           1.901640\n",
       "            23           1.937456\n",
       "Name: passenger_count, Length: 744, dtype: float64"
      ]
     },
     "execution_count": 2,
     "metadata": {},
     "output_type": "execute_result"
    }
   ],
   "source": [
    "df = pd.read_csv('sample.csv')\n",
    "\n",
    "df['pickup_at'] = pd.to_datetime(df['pickup_at'])\n",
    "df = df.set_index('pickup_at')\n",
    "\n",
    "df.groupby([df.index.date,df.index.hour])['passenger_count'].mean()"
   ]
  },
  {
   "cell_type": "markdown",
   "metadata": {},
   "source": [
    "### Pandas with PyArrow engine"
   ]
  },
  {
   "cell_type": "code",
   "execution_count": 1,
   "metadata": {},
   "outputs": [],
   "source": [
    "import pandas as pd "
   ]
  },
  {
   "cell_type": "code",
   "execution_count": 2,
   "metadata": {},
   "outputs": [
    {
     "data": {
      "text/plain": [
       "            pickup_at\n",
       "2009-01-01  0            1.714221\n",
       "            1            1.723661\n",
       "            2            1.679692\n",
       "            3            1.644623\n",
       "            4            1.566899\n",
       "                           ...   \n",
       "2009-01-31  19           1.834419\n",
       "            20           1.841117\n",
       "            21           1.874803\n",
       "            22           1.901640\n",
       "            23           1.937456\n",
       "Name: passenger_count, Length: 744, dtype: float64"
      ]
     },
     "execution_count": 2,
     "metadata": {},
     "output_type": "execute_result"
    }
   ],
   "source": [
    "df = pd.read_csv('sample.csv', engine='pyarrow')\n",
    "\n",
    "df['pickup_at'] = pd.to_datetime(df['pickup_at'])\n",
    "df = df.set_index('pickup_at')\n",
    "\n",
    "df.groupby([df.index.date,df.index.hour])['passenger_count'].mean()"
   ]
  },
  {
   "cell_type": "markdown",
   "id": "cdb8f03e",
   "metadata": {},
   "source": [
    "### Polars"
   ]
  },
  {
   "cell_type": "code",
   "execution_count": 8,
   "id": "f02ec9f8",
   "metadata": {},
   "outputs": [],
   "source": [
    "import polars as pl"
   ]
  },
  {
   "cell_type": "code",
   "execution_count": 11,
   "id": "60b55f83",
   "metadata": {},
   "outputs": [
    {
     "data": {
      "text/html": [
       "<div><style>\n",
       ".dataframe > thead > tr,\n",
       ".dataframe > tbody > tr {\n",
       "  text-align: right;\n",
       "  white-space: pre-wrap;\n",
       "}\n",
       "</style>\n",
       "<small>shape: (744, 3)</small><table border=\"1\" class=\"dataframe\"><thead><tr><th>pickup_at_date</th><th>pickup_at_hour</th><th>passenger_count</th></tr><tr><td>date</td><td>i8</td><td>f64</td></tr></thead><tbody><tr><td>2009-01-08</td><td>20</td><td>1.691188</td></tr><tr><td>2009-01-26</td><td>14</td><td>1.599633</td></tr><tr><td>2009-01-18</td><td>20</td><td>1.838339</td></tr><tr><td>2009-01-14</td><td>18</td><td>1.632807</td></tr><tr><td>2009-01-01</td><td>9</td><td>1.420493</td></tr><tr><td>&hellip;</td><td>&hellip;</td><td>&hellip;</td></tr><tr><td>2009-01-03</td><td>5</td><td>1.719294</td></tr><tr><td>2009-01-09</td><td>20</td><td>1.756514</td></tr><tr><td>2009-01-14</td><td>0</td><td>1.666934</td></tr><tr><td>2009-01-30</td><td>13</td><td>1.618202</td></tr><tr><td>2009-01-18</td><td>3</td><td>1.894054</td></tr></tbody></table></div>"
      ],
      "text/plain": [
       "shape: (744, 3)\n",
       "┌────────────────┬────────────────┬─────────────────┐\n",
       "│ pickup_at_date ┆ pickup_at_hour ┆ passenger_count │\n",
       "│ ---            ┆ ---            ┆ ---             │\n",
       "│ date           ┆ i8             ┆ f64             │\n",
       "╞════════════════╪════════════════╪═════════════════╡\n",
       "│ 2009-01-08     ┆ 20             ┆ 1.691188        │\n",
       "│ 2009-01-26     ┆ 14             ┆ 1.599633        │\n",
       "│ 2009-01-18     ┆ 20             ┆ 1.838339        │\n",
       "│ 2009-01-14     ┆ 18             ┆ 1.632807        │\n",
       "│ 2009-01-01     ┆ 9              ┆ 1.420493        │\n",
       "│ …              ┆ …              ┆ …               │\n",
       "│ 2009-01-03     ┆ 5              ┆ 1.719294        │\n",
       "│ 2009-01-09     ┆ 20             ┆ 1.756514        │\n",
       "│ 2009-01-14     ┆ 0              ┆ 1.666934        │\n",
       "│ 2009-01-30     ┆ 13             ┆ 1.618202        │\n",
       "│ 2009-01-18     ┆ 3              ┆ 1.894054        │\n",
       "└────────────────┴────────────────┴─────────────────┘"
      ]
     },
     "execution_count": 11,
     "metadata": {},
     "output_type": "execute_result"
    }
   ],
   "source": [
    "data = pl.scan_csv('sample.csv', try_parse_dates=True)\n",
    "\n",
    "data.group_by(\n",
    "        [\n",
    "            pl.col(\"pickup_at\").cast(pl.Date).alias(\"pickup_at_date\"),\n",
    "            pl.col(\"pickup_at\").dt.hour().alias(\"pickup_at_hour\"),\n",
    "        ]\n",
    "    ).agg(pl.mean(\"passenger_count\")).collect()"
   ]
  },
  {
   "cell_type": "markdown",
   "id": "2f8c0e8a",
   "metadata": {},
   "source": [
    "### Shapelets"
   ]
  },
  {
   "cell_type": "code",
   "execution_count": 1,
   "id": "86be020c",
   "metadata": {},
   "outputs": [],
   "source": [
    "from shapelets.data import sandbox"
   ]
  },
  {
   "cell_type": "code",
   "execution_count": 6,
   "id": "887240f3",
   "metadata": {},
   "outputs": [
    {
     "data": {
      "text/html": [
       "<div>\n",
       "<style scoped>\n",
       "    .dataframe tbody tr th:only-of-type {\n",
       "        vertical-align: middle;\n",
       "    }\n",
       "\n",
       "    .dataframe tbody tr th {\n",
       "        vertical-align: top;\n",
       "    }\n",
       "\n",
       "    .dataframe thead th {\n",
       "        text-align: right;\n",
       "    }\n",
       "</style>\n",
       "<table border=\"1\" class=\"dataframe\">\n",
       "  <thead>\n",
       "    <tr style=\"text-align: right;\">\n",
       "      <th></th>\n",
       "      <th>avg(passenger_count)</th>\n",
       "    </tr>\n",
       "  </thead>\n",
       "  <tbody>\n",
       "    <tr>\n",
       "      <th>0</th>\n",
       "      <td>1.781688</td>\n",
       "    </tr>\n",
       "    <tr>\n",
       "      <th>1</th>\n",
       "      <td>1.731868</td>\n",
       "    </tr>\n",
       "    <tr>\n",
       "      <th>2</th>\n",
       "      <td>1.690869</td>\n",
       "    </tr>\n",
       "    <tr>\n",
       "      <th>3</th>\n",
       "      <td>1.657708</td>\n",
       "    </tr>\n",
       "    <tr>\n",
       "      <th>4</th>\n",
       "      <td>1.586778</td>\n",
       "    </tr>\n",
       "    <tr>\n",
       "      <th>...</th>\n",
       "      <td>...</td>\n",
       "    </tr>\n",
       "    <tr>\n",
       "      <th>739</th>\n",
       "      <td>1.825804</td>\n",
       "    </tr>\n",
       "    <tr>\n",
       "      <th>740</th>\n",
       "      <td>1.837693</td>\n",
       "    </tr>\n",
       "    <tr>\n",
       "      <th>741</th>\n",
       "      <td>1.867162</td>\n",
       "    </tr>\n",
       "    <tr>\n",
       "      <th>742</th>\n",
       "      <td>1.903295</td>\n",
       "    </tr>\n",
       "    <tr>\n",
       "      <th>743</th>\n",
       "      <td>1.927558</td>\n",
       "    </tr>\n",
       "  </tbody>\n",
       "</table>\n",
       "<p>744 rows × 1 columns</p>\n",
       "</div>"
      ],
      "text/plain": [
       "     avg(passenger_count)\n",
       "0                1.781688\n",
       "1                1.731868\n",
       "2                1.690869\n",
       "3                1.657708\n",
       "4                1.586778\n",
       "..                    ...\n",
       "739              1.825804\n",
       "740              1.837693\n",
       "741              1.867162\n",
       "742              1.903295\n",
       "743              1.927558\n",
       "\n",
       "[744 rows x 1 columns]"
      ]
     },
     "execution_count": 6,
     "metadata": {},
     "output_type": "execute_result"
    }
   ],
   "source": [
    "playground = sandbox()\n",
    "\n",
    "playground.from_csv(\"taxis\", [\"sample.csv\"])\n",
    "\n",
    "result = playground.from_sql(\"\"\"\n",
    "    SELECT\n",
    "        AVG(passenger_count)                                                    \n",
    "    FROM taxis\n",
    "        GROUP BY extract('day' from dropoff_at), extract('hour' from dropoff_at)                                                                           \n",
    "\"\"\").execute()\n",
    "\n",
    "result.to_pandas()"
   ]
  }
 ],
 "metadata": {
  "kernelspec": {
   "display_name": "Python 3.10.8 ('venv': venv)",
   "language": "python",
   "name": "python3"
  },
  "language_info": {
   "codemirror_mode": {
    "name": "ipython",
    "version": 3
   },
   "file_extension": ".py",
   "mimetype": "text/x-python",
   "name": "python",
   "nbconvert_exporter": "python",
   "pygments_lexer": "ipython3",
   "version": "3.10.8"
  },
  "vscode": {
   "interpreter": {
    "hash": "dd91c1e9d90d869cb5f0a1c3df511ab2b748983196c071e5dcd476d229b12eea"
   }
  }
 },
 "nbformat": 4,
 "nbformat_minor": 5
}
