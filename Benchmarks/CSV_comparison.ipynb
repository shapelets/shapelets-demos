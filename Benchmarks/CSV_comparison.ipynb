{
 "cells": [
  {
   "cell_type": "code",
   "execution_count": null,
   "metadata": {},
   "outputs": [],
   "source": [
    "from shapelets.data import sandbox\n",
    "\n",
    "# Convert parquet to CSV\n",
    "sandbox().from_parquet(\"taxis\", [\"../Benchmarks/nyc-taxi/2009/01/*.parquet\"]).to_csv('sample.csv')"
   ]
  },
  {
   "cell_type": "markdown",
   "metadata": {},
   "source": [
    "### Pandas"
   ]
  },
  {
   "cell_type": "code",
   "execution_count": 1,
   "id": "21ae8108",
   "metadata": {},
   "outputs": [],
   "source": [
    "import pandas as pd "
   ]
  },
  {
   "cell_type": "code",
   "execution_count": 2,
   "id": "e88c667f",
   "metadata": {},
   "outputs": [
    {
     "data": {
      "text/plain": [
       "            pickup_at\n",
       "2009-01-01  0            1.714221\n",
       "            1            1.723661\n",
       "            2            1.679692\n",
       "            3            1.644623\n",
       "            4            1.566899\n",
       "                           ...   \n",
       "2009-01-31  19           1.834419\n",
       "            20           1.841117\n",
       "            21           1.874803\n",
       "            22           1.901640\n",
       "            23           1.937456\n",
       "Name: passenger_count, Length: 744, dtype: float64"
      ]
     },
     "execution_count": 2,
     "metadata": {},
     "output_type": "execute_result"
    }
   ],
   "source": [
    "df = pd.read_csv('sample.csv')\n",
    "\n",
    "df['pickup_at'] = pd.to_datetime(df['pickup_at'])\n",
    "df = df.set_index('pickup_at')\n",
    "\n",
    "df.groupby([df.index.date,df.index.hour])['passenger_count'].mean()"
   ]
  },
  {
   "cell_type": "markdown",
   "metadata": {},
   "source": [
    "### Pandas with PyArrow engine"
   ]
  },
  {
   "cell_type": "code",
   "execution_count": 1,
   "metadata": {},
   "outputs": [],
   "source": [
    "import pandas as pd "
   ]
  },
  {
   "cell_type": "code",
   "execution_count": 2,
   "metadata": {},
   "outputs": [
    {
     "data": {
      "text/plain": [
       "            pickup_at\n",
       "2009-01-01  0            1.714221\n",
       "            1            1.723661\n",
       "            2            1.679692\n",
       "            3            1.644623\n",
       "            4            1.566899\n",
       "                           ...   \n",
       "2009-01-31  19           1.834419\n",
       "            20           1.841117\n",
       "            21           1.874803\n",
       "            22           1.901640\n",
       "            23           1.937456\n",
       "Name: passenger_count, Length: 744, dtype: float64"
      ]
     },
     "execution_count": 2,
     "metadata": {},
     "output_type": "execute_result"
    }
   ],
   "source": [
    "df = pd.read_csv('sample.csv', engine='pyarrow')\n",
    "\n",
    "df['pickup_at'] = pd.to_datetime(df['pickup_at'])\n",
    "df = df.set_index('pickup_at')\n",
    "\n",
    "df.groupby([df.index.date,df.index.hour])['passenger_count'].mean()"
   ]
  },
  {
   "cell_type": "markdown",
   "id": "cdb8f03e",
   "metadata": {},
   "source": [
    "### Polars"
   ]
  },
  {
   "cell_type": "code",
   "execution_count": 25,
   "id": "f02ec9f8",
   "metadata": {},
   "outputs": [],
   "source": [
    "import polars as pl"
   ]
  },
  {
   "cell_type": "code",
   "execution_count": 26,
   "id": "60b55f83",
   "metadata": {},
   "outputs": [
    {
     "data": {
      "text/html": [
       "<div><style>\n",
       ".dataframe > thead > tr,\n",
       ".dataframe > tbody > tr {\n",
       "  text-align: right;\n",
       "  white-space: pre-wrap;\n",
       "}\n",
       "</style>\n",
       "<small>shape: (744, 3)</small><table border=\"1\" class=\"dataframe\"><thead><tr><th>pickup_at_date</th><th>pickup_at_hour</th><th>passenger_count</th></tr><tr><td>date</td><td>i8</td><td>f64</td></tr></thead><tbody><tr><td>2009-01-31</td><td>5</td><td>1.663196</td></tr><tr><td>2009-01-12</td><td>9</td><td>1.524339</td></tr><tr><td>2009-01-03</td><td>11</td><td>1.809372</td></tr><tr><td>2009-01-01</td><td>19</td><td>1.950497</td></tr><tr><td>2009-01-20</td><td>5</td><td>1.549116</td></tr><tr><td>&hellip;</td><td>&hellip;</td><td>&hellip;</td></tr><tr><td>2009-01-22</td><td>10</td><td>1.565153</td></tr><tr><td>2009-01-18</td><td>12</td><td>1.765568</td></tr><tr><td>2009-01-27</td><td>17</td><td>1.645984</td></tr><tr><td>2009-01-03</td><td>14</td><td>1.848984</td></tr><tr><td>2009-01-15</td><td>5</td><td>1.504211</td></tr></tbody></table></div>"
      ],
      "text/plain": [
       "shape: (744, 3)\n",
       "┌────────────────┬────────────────┬─────────────────┐\n",
       "│ pickup_at_date ┆ pickup_at_hour ┆ passenger_count │\n",
       "│ ---            ┆ ---            ┆ ---             │\n",
       "│ date           ┆ i8             ┆ f64             │\n",
       "╞════════════════╪════════════════╪═════════════════╡\n",
       "│ 2009-01-31     ┆ 5              ┆ 1.663196        │\n",
       "│ 2009-01-12     ┆ 9              ┆ 1.524339        │\n",
       "│ 2009-01-03     ┆ 11             ┆ 1.809372        │\n",
       "│ 2009-01-01     ┆ 19             ┆ 1.950497        │\n",
       "│ 2009-01-20     ┆ 5              ┆ 1.549116        │\n",
       "│ …              ┆ …              ┆ …               │\n",
       "│ 2009-01-22     ┆ 10             ┆ 1.565153        │\n",
       "│ 2009-01-18     ┆ 12             ┆ 1.765568        │\n",
       "│ 2009-01-27     ┆ 17             ┆ 1.645984        │\n",
       "│ 2009-01-03     ┆ 14             ┆ 1.848984        │\n",
       "│ 2009-01-15     ┆ 5              ┆ 1.504211        │\n",
       "└────────────────┴────────────────┴─────────────────┘"
      ]
     },
     "execution_count": 26,
     "metadata": {},
     "output_type": "execute_result"
    }
   ],
   "source": [
    "data = pl.scan_csv('sample.csv', try_parse_dates=True)\n",
    "\n",
    "data.group_by(\n",
    "        [\n",
    "            pl.col(\"pickup_at\").cast(pl.Date).alias(\"pickup_at_date\"),\n",
    "            pl.col(\"pickup_at\").dt.hour().alias(\"pickup_at_hour\"),\n",
    "        ]\n",
    "    ).agg(pl.mean(\"passenger_count\")).collect()"
   ]
  },
  {
   "cell_type": "markdown",
   "id": "2f8c0e8a",
   "metadata": {},
   "source": [
    "### Shapelets"
   ]
  },
  {
   "cell_type": "code",
   "execution_count": 9,
   "id": "86be020c",
   "metadata": {},
   "outputs": [],
   "source": [
    "from shapelets.data import sandbox"
   ]
  },
  {
   "cell_type": "code",
   "execution_count": 14,
   "id": "887240f3",
   "metadata": {},
   "outputs": [
    {
     "data": {
      "text/html": [
       "<div>\n",
       "<style scoped>\n",
       "    .dataframe tbody tr th:only-of-type {\n",
       "        vertical-align: middle;\n",
       "    }\n",
       "\n",
       "    .dataframe tbody tr th {\n",
       "        vertical-align: top;\n",
       "    }\n",
       "\n",
       "    .dataframe thead th {\n",
       "        text-align: right;\n",
       "    }\n",
       "</style>\n",
       "<table border=\"1\" class=\"dataframe\">\n",
       "  <thead>\n",
       "    <tr style=\"text-align: right;\">\n",
       "      <th></th>\n",
       "      <th>pickup_at_date</th>\n",
       "      <th>pickup_at_hour</th>\n",
       "      <th>passenger_count</th>\n",
       "    </tr>\n",
       "  </thead>\n",
       "  <tbody>\n",
       "    <tr>\n",
       "      <th>0</th>\n",
       "      <td>2009-01-22</td>\n",
       "      <td>8</td>\n",
       "      <td>1.552967</td>\n",
       "    </tr>\n",
       "    <tr>\n",
       "      <th>1</th>\n",
       "      <td>2009-01-02</td>\n",
       "      <td>9</td>\n",
       "      <td>1.664195</td>\n",
       "    </tr>\n",
       "    <tr>\n",
       "      <th>2</th>\n",
       "      <td>2009-01-27</td>\n",
       "      <td>19</td>\n",
       "      <td>1.634457</td>\n",
       "    </tr>\n",
       "    <tr>\n",
       "      <th>3</th>\n",
       "      <td>2009-01-15</td>\n",
       "      <td>2</td>\n",
       "      <td>1.679269</td>\n",
       "    </tr>\n",
       "    <tr>\n",
       "      <th>4</th>\n",
       "      <td>2009-01-15</td>\n",
       "      <td>10</td>\n",
       "      <td>1.563418</td>\n",
       "    </tr>\n",
       "    <tr>\n",
       "      <th>...</th>\n",
       "      <td>...</td>\n",
       "      <td>...</td>\n",
       "      <td>...</td>\n",
       "    </tr>\n",
       "    <tr>\n",
       "      <th>739</th>\n",
       "      <td>2009-01-23</td>\n",
       "      <td>22</td>\n",
       "      <td>1.839678</td>\n",
       "    </tr>\n",
       "    <tr>\n",
       "      <th>740</th>\n",
       "      <td>2009-01-27</td>\n",
       "      <td>2</td>\n",
       "      <td>1.660264</td>\n",
       "    </tr>\n",
       "    <tr>\n",
       "      <th>741</th>\n",
       "      <td>2009-01-08</td>\n",
       "      <td>3</td>\n",
       "      <td>1.637116</td>\n",
       "    </tr>\n",
       "    <tr>\n",
       "      <th>742</th>\n",
       "      <td>2009-01-06</td>\n",
       "      <td>2</td>\n",
       "      <td>1.671460</td>\n",
       "    </tr>\n",
       "    <tr>\n",
       "      <th>743</th>\n",
       "      <td>2009-01-03</td>\n",
       "      <td>7</td>\n",
       "      <td>1.638284</td>\n",
       "    </tr>\n",
       "  </tbody>\n",
       "</table>\n",
       "<p>744 rows × 3 columns</p>\n",
       "</div>"
      ],
      "text/plain": [
       "    pickup_at_date  pickup_at_hour  passenger_count\n",
       "0       2009-01-22               8         1.552967\n",
       "1       2009-01-02               9         1.664195\n",
       "2       2009-01-27              19         1.634457\n",
       "3       2009-01-15               2         1.679269\n",
       "4       2009-01-15              10         1.563418\n",
       "..             ...             ...              ...\n",
       "739     2009-01-23              22         1.839678\n",
       "740     2009-01-27               2         1.660264\n",
       "741     2009-01-08               3         1.637116\n",
       "742     2009-01-06               2         1.671460\n",
       "743     2009-01-03               7         1.638284\n",
       "\n",
       "[744 rows x 3 columns]"
      ]
     },
     "execution_count": 14,
     "metadata": {},
     "output_type": "execute_result"
    }
   ],
   "source": [
    "playground = sandbox()\n",
    "\n",
    "playground.from_csv(\"taxis\", [\"sample.csv\"])\n",
    "\n",
    "result = playground.from_sql(\"\"\"\n",
    "    SELECT\n",
    "        CAST(pickup_at as DATE) as pickup_at_date,\n",
    "        EXTRACT('hour' from pickup_at) as pickup_at_hour,                      \n",
    "        AVG(passenger_count) as passenger_count                                                   \n",
    "    FROM taxis\n",
    "    GROUP BY \n",
    "        pickup_at_date, pickup_at_hour                                                                            \n",
    "\"\"\").execute()\n",
    "\n",
    "result.to_pandas()"
   ]
  }
 ],
 "metadata": {
  "kernelspec": {
   "display_name": "Python 3.10.8 ('venv': venv)",
   "language": "python",
   "name": "python3"
  },
  "language_info": {
   "codemirror_mode": {
    "name": "ipython",
    "version": 3
   },
   "file_extension": ".py",
   "mimetype": "text/x-python",
   "name": "python",
   "nbconvert_exporter": "python",
   "pygments_lexer": "ipython3",
   "version": "3.10.8"
  },
  "vscode": {
   "interpreter": {
    "hash": "dd91c1e9d90d869cb5f0a1c3df511ab2b748983196c071e5dcd476d229b12eea"
   }
  }
 },
 "nbformat": 4,
 "nbformat_minor": 5
}
