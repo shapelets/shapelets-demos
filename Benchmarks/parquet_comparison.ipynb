{
 "cells": [
  {
   "cell_type": "markdown",
   "id": "b7704eed",
   "metadata": {},
   "source": [
    "# Benchmark for big data ingestion and querying\n",
    "\n",
    "## Introduction\n",
    "\n",
    "This notebook provides a quick comparison of the ingestion and querying speed between Shapelets (shapelets-platform) and two well known python libraries for tabular data handling: Pyarrow, Pandas and Polars. You will need to have them installed in order to run this benchmark."
   ]
  },
  {
   "cell_type": "code",
   "execution_count": null,
   "id": "382a6e4f",
   "metadata": {},
   "outputs": [],
   "source": [
    "! pip install pandas pyarrow polars shapelets-platform"
   ]
  },
  {
   "cell_type": "markdown",
   "id": "2108d699",
   "metadata": {},
   "source": [
    "The benchmark is based on the NYC Taxi Dataset, with a size of ~37 Gb. The dataset contains more than 1.5 billion records of taxi trips in the area of New York City during 10 years (2009 to 2019). The dataset consists of .parquet files, one for each month of data.\n",
    "\n",
    "We will be comparing two scenarios: one month of data (~430 Mb) and 1 year of data (~4.6 Gb). The benchmark evaluates two objectives:\n",
    "- Data ingestion \n",
    "- Data querying with aggregation, in order to compute the average number of passengers for each day and month.\n",
    "\n",
    "Please note both the execution times, CPU and memory used by each library, as for instance, Shapelets implementation is the fastest, uses all CPU cores available and does not require loading the data into memory.\n",
    "\n",
    "In order to handle data, Shapelets relies very efficient data structures which rely on a technique named bitmap indexing, implemented in C++. This technique offers particularly good results in huge databases, providing faster retrieval of records and greater efficiency in insert, delete and update operations.\n",
    "\n",
    "When handling time series, temporal indices are discretized and codified as bitmap indices, speeding up operations and providing several advantages, like the ability to store time series sampled at an arbitrarily high frequency.\n",
    "\n",
    "**Note**: if you find a better implementation for Pandas, Pyarrow or Polars, feel free to raise an issue in this repo or e-mail us at hello@shapelets.io"
   ]
  },
  {
   "cell_type": "markdown",
   "id": "bc267d2b",
   "metadata": {},
   "source": [
    "## One Month Scenario\n",
    "### Pandas\n"
   ]
  },
  {
   "cell_type": "code",
   "execution_count": 1,
   "id": "21ae8108",
   "metadata": {},
   "outputs": [],
   "source": [
    "import pandas as pd "
   ]
  },
  {
   "cell_type": "code",
   "execution_count": 2,
   "id": "e88c667f",
   "metadata": {},
   "outputs": [
    {
     "data": {
      "text/plain": [
       "            pickup_at\n",
       "2009-01-01  0            1.714221\n",
       "            1            1.723661\n",
       "            2            1.679692\n",
       "            3            1.644623\n",
       "            4            1.566899\n",
       "                           ...   \n",
       "2009-01-31  19           1.834419\n",
       "            20           1.841117\n",
       "            21           1.874803\n",
       "            22           1.901640\n",
       "            23           1.937456\n",
       "Name: passenger_count, Length: 744, dtype: float64"
      ]
     },
     "execution_count": 2,
     "metadata": {},
     "output_type": "execute_result"
    }
   ],
   "source": [
    "df = pd.read_parquet('../Benchmarks/nyc-taxi/2009/01')\n",
    "\n",
    "df['pickup_at'] = pd.to_datetime(df['pickup_at'])\n",
    "df = df.set_index('pickup_at')\n",
    "\n",
    "df.groupby([df.index.date,df.index.hour])['passenger_count'].mean()"
   ]
  },
  {
   "cell_type": "markdown",
   "metadata": {},
   "source": [
    "### Pandas with PyArrow engine"
   ]
  },
  {
   "cell_type": "code",
   "execution_count": 3,
   "metadata": {},
   "outputs": [],
   "source": [
    "import pandas as pd"
   ]
  },
  {
   "cell_type": "code",
   "execution_count": 4,
   "metadata": {},
   "outputs": [
    {
     "data": {
      "text/plain": [
       "            pickup_at\n",
       "2009-01-01  0            1.714221\n",
       "            1            1.723661\n",
       "            2            1.679692\n",
       "            3            1.644623\n",
       "            4            1.566899\n",
       "                           ...   \n",
       "2009-01-31  19           1.834419\n",
       "            20           1.841117\n",
       "            21           1.874803\n",
       "            22           1.901640\n",
       "            23           1.937456\n",
       "Name: passenger_count, Length: 744, dtype: float64"
      ]
     },
     "execution_count": 4,
     "metadata": {},
     "output_type": "execute_result"
    }
   ],
   "source": [
    "df = pd.read_parquet('../Benchmarks/nyc-taxi/2009/01', engine='pyarrow')\n",
    "\n",
    "df['pickup_at'] = pd.to_datetime(df['pickup_at'])\n",
    "df = df.set_index('pickup_at')\n",
    "\n",
    "df.groupby([df.index.date,df.index.hour])['passenger_count'].mean()"
   ]
  },
  {
   "cell_type": "markdown",
   "id": "cdb8f03e",
   "metadata": {},
   "source": [
    "### Polars"
   ]
  },
  {
   "cell_type": "code",
   "execution_count": 11,
   "id": "f02ec9f8",
   "metadata": {},
   "outputs": [],
   "source": [
    "import polars as pl"
   ]
  },
  {
   "cell_type": "code",
   "execution_count": 12,
   "id": "60b55f83",
   "metadata": {},
   "outputs": [
    {
     "data": {
      "text/html": [
       "<div><style>\n",
       ".dataframe > thead > tr,\n",
       ".dataframe > tbody > tr {\n",
       "  text-align: right;\n",
       "  white-space: pre-wrap;\n",
       "}\n",
       "</style>\n",
       "<small>shape: (744, 3)</small><table border=\"1\" class=\"dataframe\"><thead><tr><th>pickup_at_date</th><th>pickup_at_hour</th><th>passenger_count</th></tr><tr><td>date</td><td>i8</td><td>f64</td></tr></thead><tbody><tr><td>2009-01-24</td><td>15</td><td>1.767491</td></tr><tr><td>2009-01-04</td><td>10</td><td>1.750357</td></tr><tr><td>2009-01-29</td><td>9</td><td>1.529461</td></tr><tr><td>2009-01-26</td><td>8</td><td>1.564938</td></tr><tr><td>2009-01-17</td><td>23</td><td>1.949876</td></tr><tr><td>&hellip;</td><td>&hellip;</td><td>&hellip;</td></tr><tr><td>2009-01-05</td><td>22</td><td>1.726516</td></tr><tr><td>2009-01-10</td><td>21</td><td>1.885208</td></tr><tr><td>2009-01-16</td><td>22</td><td>1.850057</td></tr><tr><td>2009-01-07</td><td>5</td><td>1.536506</td></tr><tr><td>2009-01-01</td><td>4</td><td>1.566899</td></tr></tbody></table></div>"
      ],
      "text/plain": [
       "shape: (744, 3)\n",
       "┌────────────────┬────────────────┬─────────────────┐\n",
       "│ pickup_at_date ┆ pickup_at_hour ┆ passenger_count │\n",
       "│ ---            ┆ ---            ┆ ---             │\n",
       "│ date           ┆ i8             ┆ f64             │\n",
       "╞════════════════╪════════════════╪═════════════════╡\n",
       "│ 2009-01-24     ┆ 15             ┆ 1.767491        │\n",
       "│ 2009-01-04     ┆ 10             ┆ 1.750357        │\n",
       "│ 2009-01-29     ┆ 9              ┆ 1.529461        │\n",
       "│ 2009-01-26     ┆ 8              ┆ 1.564938        │\n",
       "│ 2009-01-17     ┆ 23             ┆ 1.949876        │\n",
       "│ …              ┆ …              ┆ …               │\n",
       "│ 2009-01-05     ┆ 22             ┆ 1.726516        │\n",
       "│ 2009-01-10     ┆ 21             ┆ 1.885208        │\n",
       "│ 2009-01-16     ┆ 22             ┆ 1.850057        │\n",
       "│ 2009-01-07     ┆ 5              ┆ 1.536506        │\n",
       "│ 2009-01-01     ┆ 4              ┆ 1.566899        │\n",
       "└────────────────┴────────────────┴─────────────────┘"
      ]
     },
     "execution_count": 12,
     "metadata": {},
     "output_type": "execute_result"
    }
   ],
   "source": [
    "data = pl.scan_parquet('../Benchmarks/nyc-taxi/2009/01/*.parquet')\n",
    "\n",
    "data.group_by(\n",
    "        [\n",
    "            pl.col(\"pickup_at\").cast(pl.Date).alias(\"pickup_at_date\"),\n",
    "            pl.col(\"pickup_at\").dt.hour().alias(\"pickup_at_hour\"),\n",
    "        ]\n",
    "    ).agg(pl.mean(\"passenger_count\")).collect()"
   ]
  },
  {
   "cell_type": "markdown",
   "id": "2f8c0e8a",
   "metadata": {},
   "source": [
    "### Shapelets"
   ]
  },
  {
   "cell_type": "code",
   "execution_count": 9,
   "id": "86be020c",
   "metadata": {},
   "outputs": [],
   "source": [
    "from shapelets.data import sandbox"
   ]
  },
  {
   "cell_type": "code",
   "execution_count": 10,
   "id": "887240f3",
   "metadata": {},
   "outputs": [
    {
     "data": {
      "text/html": [
       "<div>\n",
       "<style scoped>\n",
       "    .dataframe tbody tr th:only-of-type {\n",
       "        vertical-align: middle;\n",
       "    }\n",
       "\n",
       "    .dataframe tbody tr th {\n",
       "        vertical-align: top;\n",
       "    }\n",
       "\n",
       "    .dataframe thead th {\n",
       "        text-align: right;\n",
       "    }\n",
       "</style>\n",
       "<table border=\"1\" class=\"dataframe\">\n",
       "  <thead>\n",
       "    <tr style=\"text-align: right;\">\n",
       "      <th></th>\n",
       "      <th>pickup_at_date</th>\n",
       "      <th>pickup_at_hour</th>\n",
       "      <th>passenger_count</th>\n",
       "    </tr>\n",
       "  </thead>\n",
       "  <tbody>\n",
       "    <tr>\n",
       "      <th>0</th>\n",
       "      <td>2009-01-01</td>\n",
       "      <td>0</td>\n",
       "      <td>1.714221</td>\n",
       "    </tr>\n",
       "    <tr>\n",
       "      <th>1</th>\n",
       "      <td>2009-01-01</td>\n",
       "      <td>1</td>\n",
       "      <td>1.723661</td>\n",
       "    </tr>\n",
       "    <tr>\n",
       "      <th>2</th>\n",
       "      <td>2009-01-01</td>\n",
       "      <td>2</td>\n",
       "      <td>1.679692</td>\n",
       "    </tr>\n",
       "    <tr>\n",
       "      <th>3</th>\n",
       "      <td>2009-01-01</td>\n",
       "      <td>3</td>\n",
       "      <td>1.644623</td>\n",
       "    </tr>\n",
       "    <tr>\n",
       "      <th>4</th>\n",
       "      <td>2009-01-01</td>\n",
       "      <td>4</td>\n",
       "      <td>1.566899</td>\n",
       "    </tr>\n",
       "    <tr>\n",
       "      <th>...</th>\n",
       "      <td>...</td>\n",
       "      <td>...</td>\n",
       "      <td>...</td>\n",
       "    </tr>\n",
       "    <tr>\n",
       "      <th>739</th>\n",
       "      <td>2009-01-31</td>\n",
       "      <td>19</td>\n",
       "      <td>1.834419</td>\n",
       "    </tr>\n",
       "    <tr>\n",
       "      <th>740</th>\n",
       "      <td>2009-01-31</td>\n",
       "      <td>20</td>\n",
       "      <td>1.841117</td>\n",
       "    </tr>\n",
       "    <tr>\n",
       "      <th>741</th>\n",
       "      <td>2009-01-31</td>\n",
       "      <td>21</td>\n",
       "      <td>1.874803</td>\n",
       "    </tr>\n",
       "    <tr>\n",
       "      <th>742</th>\n",
       "      <td>2009-01-31</td>\n",
       "      <td>22</td>\n",
       "      <td>1.901640</td>\n",
       "    </tr>\n",
       "    <tr>\n",
       "      <th>743</th>\n",
       "      <td>2009-01-31</td>\n",
       "      <td>23</td>\n",
       "      <td>1.937456</td>\n",
       "    </tr>\n",
       "  </tbody>\n",
       "</table>\n",
       "<p>744 rows × 3 columns</p>\n",
       "</div>"
      ],
      "text/plain": [
       "    pickup_at_date  pickup_at_hour  passenger_count\n",
       "0       2009-01-01               0         1.714221\n",
       "1       2009-01-01               1         1.723661\n",
       "2       2009-01-01               2         1.679692\n",
       "3       2009-01-01               3         1.644623\n",
       "4       2009-01-01               4         1.566899\n",
       "..             ...             ...              ...\n",
       "739     2009-01-31              19         1.834419\n",
       "740     2009-01-31              20         1.841117\n",
       "741     2009-01-31              21         1.874803\n",
       "742     2009-01-31              22         1.901640\n",
       "743     2009-01-31              23         1.937456\n",
       "\n",
       "[744 rows x 3 columns]"
      ]
     },
     "execution_count": 10,
     "metadata": {},
     "output_type": "execute_result"
    }
   ],
   "source": [
    "playground = sandbox()\n",
    "\n",
    "taxis = playground.from_parquet(\"taxis\", [\"../Benchmarks/nyc-taxi/2009/01/*.parquet\"])\n",
    "\n",
    "result = playground.from_sql(\"\"\"\n",
    "    SELECT\n",
    "        CAST(pickup_at as DATE) as pickup_at_date,\n",
    "        EXTRACT('hour' from pickup_at) as pickup_at_hour,                      \n",
    "        AVG(passenger_count) as passenger_count                                                   \n",
    "    FROM taxis\n",
    "    GROUP BY \n",
    "        pickup_at_date, pickup_at_hour                                                                           \n",
    "\"\"\").execute()\n",
    "\n",
    "result.to_pandas()"
   ]
  },
  {
   "cell_type": "markdown",
   "id": "3093b942",
   "metadata": {},
   "source": [
    "## One Year Scenario\n",
    "\n",
    "### Pandas (Large memory consumption - Do not run)"
   ]
  },
  {
   "cell_type": "code",
   "execution_count": 1,
   "id": "ad39479c",
   "metadata": {},
   "outputs": [
    {
     "ename": "",
     "evalue": "",
     "output_type": "error",
     "traceback": [
      "\u001b[1;31mThe Kernel crashed while executing code in the the current cell or a previous cell. Please review the code in the cell(s) to identify a possible cause of the failure. Click <a href='https://aka.ms/vscodeJupyterKernelCrash'>here</a> for more info. View Jupyter <a href='command:jupyter.viewOutput'>log</a> for further details."
     ]
    }
   ],
   "source": [
    "import pandas as pd \n",
    "\n",
    "df = pd.read_parquet('../Benchmarks/nyc-taxi/2009')\n",
    "\n",
    "df['pickup_at'] = pd.to_datetime(df['pickup_at'])\n",
    "df = df.set_index('pickup_at')\n",
    "\n",
    "df.groupby([df.index.date,df.index.hour])['passenger_count'].mean()"
   ]
  },
  {
   "cell_type": "markdown",
   "id": "552c37f7",
   "metadata": {},
   "source": [
    "### Polars (Large memory consumption)"
   ]
  },
  {
   "cell_type": "code",
   "execution_count": 5,
   "id": "9b413bbe",
   "metadata": {},
   "outputs": [],
   "source": [
    "import polars as pl"
   ]
  },
  {
   "cell_type": "code",
   "execution_count": 6,
   "id": "850b6043",
   "metadata": {},
   "outputs": [
    {
     "data": {
      "text/html": [
       "<div><style>\n",
       ".dataframe > thead > tr,\n",
       ".dataframe > tbody > tr {\n",
       "  text-align: right;\n",
       "  white-space: pre-wrap;\n",
       "}\n",
       "</style>\n",
       "<small>shape: (8_760, 3)</small><table border=\"1\" class=\"dataframe\"><thead><tr><th>pickup_at_date</th><th>pickup_at_hour</th><th>passenger_count</th></tr><tr><td>date</td><td>i8</td><td>f64</td></tr></thead><tbody><tr><td>2009-12-12</td><td>4</td><td>1.772643</td></tr><tr><td>2009-12-01</td><td>18</td><td>1.66098</td></tr><tr><td>2009-05-16</td><td>0</td><td>1.866671</td></tr><tr><td>2009-11-06</td><td>17</td><td>1.693558</td></tr><tr><td>2009-09-13</td><td>16</td><td>1.740269</td></tr><tr><td>&hellip;</td><td>&hellip;</td><td>&hellip;</td></tr><tr><td>2009-03-04</td><td>21</td><td>1.666816</td></tr><tr><td>2009-11-14</td><td>15</td><td>1.800349</td></tr><tr><td>2009-01-06</td><td>10</td><td>1.598939</td></tr><tr><td>2009-04-23</td><td>7</td><td>1.520505</td></tr><tr><td>2009-04-19</td><td>9</td><td>1.701445</td></tr></tbody></table></div>"
      ],
      "text/plain": [
       "shape: (8_760, 3)\n",
       "┌────────────────┬────────────────┬─────────────────┐\n",
       "│ pickup_at_date ┆ pickup_at_hour ┆ passenger_count │\n",
       "│ ---            ┆ ---            ┆ ---             │\n",
       "│ date           ┆ i8             ┆ f64             │\n",
       "╞════════════════╪════════════════╪═════════════════╡\n",
       "│ 2009-12-12     ┆ 4              ┆ 1.772643        │\n",
       "│ 2009-12-01     ┆ 18             ┆ 1.66098         │\n",
       "│ 2009-05-16     ┆ 0              ┆ 1.866671        │\n",
       "│ 2009-11-06     ┆ 17             ┆ 1.693558        │\n",
       "│ 2009-09-13     ┆ 16             ┆ 1.740269        │\n",
       "│ …              ┆ …              ┆ …               │\n",
       "│ 2009-03-04     ┆ 21             ┆ 1.666816        │\n",
       "│ 2009-11-14     ┆ 15             ┆ 1.800349        │\n",
       "│ 2009-01-06     ┆ 10             ┆ 1.598939        │\n",
       "│ 2009-04-23     ┆ 7              ┆ 1.520505        │\n",
       "│ 2009-04-19     ┆ 9              ┆ 1.701445        │\n",
       "└────────────────┴────────────────┴─────────────────┘"
      ]
     },
     "execution_count": 6,
     "metadata": {},
     "output_type": "execute_result"
    }
   ],
   "source": [
    "data = pl.scan_parquet('../Benchmarks/nyc-taxi/2009/**/*.parquet')\n",
    "\n",
    "data.group_by(\n",
    "        [\n",
    "            pl.col(\"pickup_at\").cast(pl.Date).alias(\"pickup_at_date\"),\n",
    "            pl.col(\"pickup_at\").dt.hour().alias(\"pickup_at_hour\"),\n",
    "        ]\n",
    "    ).agg(pl.mean(\"passenger_count\")).collect()"
   ]
  },
  {
   "cell_type": "markdown",
   "id": "877bb895",
   "metadata": {},
   "source": [
    "### Shapelets"
   ]
  },
  {
   "cell_type": "code",
   "execution_count": 7,
   "id": "4fe47292",
   "metadata": {},
   "outputs": [],
   "source": [
    "from shapelets.data import sandbox"
   ]
  },
  {
   "cell_type": "code",
   "execution_count": 8,
   "id": "4c11f564",
   "metadata": {},
   "outputs": [
    {
     "data": {
      "text/html": [
       "<div>\n",
       "<style scoped>\n",
       "    .dataframe tbody tr th:only-of-type {\n",
       "        vertical-align: middle;\n",
       "    }\n",
       "\n",
       "    .dataframe tbody tr th {\n",
       "        vertical-align: top;\n",
       "    }\n",
       "\n",
       "    .dataframe thead th {\n",
       "        text-align: right;\n",
       "    }\n",
       "</style>\n",
       "<table border=\"1\" class=\"dataframe\">\n",
       "  <thead>\n",
       "    <tr style=\"text-align: right;\">\n",
       "      <th></th>\n",
       "      <th>pickup_at_date</th>\n",
       "      <th>pickup_at_hour</th>\n",
       "      <th>passenger_count</th>\n",
       "    </tr>\n",
       "  </thead>\n",
       "  <tbody>\n",
       "    <tr>\n",
       "      <th>0</th>\n",
       "      <td>2009-01-21</td>\n",
       "      <td>7</td>\n",
       "      <td>1.551747</td>\n",
       "    </tr>\n",
       "    <tr>\n",
       "      <th>1</th>\n",
       "      <td>2009-01-25</td>\n",
       "      <td>12</td>\n",
       "      <td>1.739060</td>\n",
       "    </tr>\n",
       "    <tr>\n",
       "      <th>2</th>\n",
       "      <td>2009-01-21</td>\n",
       "      <td>13</td>\n",
       "      <td>1.624000</td>\n",
       "    </tr>\n",
       "    <tr>\n",
       "      <th>3</th>\n",
       "      <td>2009-01-21</td>\n",
       "      <td>19</td>\n",
       "      <td>1.650012</td>\n",
       "    </tr>\n",
       "    <tr>\n",
       "      <th>4</th>\n",
       "      <td>2009-01-22</td>\n",
       "      <td>3</td>\n",
       "      <td>1.632184</td>\n",
       "    </tr>\n",
       "    <tr>\n",
       "      <th>...</th>\n",
       "      <td>...</td>\n",
       "      <td>...</td>\n",
       "      <td>...</td>\n",
       "    </tr>\n",
       "    <tr>\n",
       "      <th>8755</th>\n",
       "      <td>2009-12-20</td>\n",
       "      <td>4</td>\n",
       "      <td>1.781036</td>\n",
       "    </tr>\n",
       "    <tr>\n",
       "      <th>8756</th>\n",
       "      <td>2009-12-25</td>\n",
       "      <td>6</td>\n",
       "      <td>1.632369</td>\n",
       "    </tr>\n",
       "    <tr>\n",
       "      <th>8757</th>\n",
       "      <td>2009-12-13</td>\n",
       "      <td>6</td>\n",
       "      <td>1.655344</td>\n",
       "    </tr>\n",
       "    <tr>\n",
       "      <th>8758</th>\n",
       "      <td>2009-12-06</td>\n",
       "      <td>3</td>\n",
       "      <td>2.166596</td>\n",
       "    </tr>\n",
       "    <tr>\n",
       "      <th>8759</th>\n",
       "      <td>2009-12-06</td>\n",
       "      <td>6</td>\n",
       "      <td>2.029165</td>\n",
       "    </tr>\n",
       "  </tbody>\n",
       "</table>\n",
       "<p>8760 rows × 3 columns</p>\n",
       "</div>"
      ],
      "text/plain": [
       "     pickup_at_date  pickup_at_hour  passenger_count\n",
       "0        2009-01-21               7         1.551747\n",
       "1        2009-01-25              12         1.739060\n",
       "2        2009-01-21              13         1.624000\n",
       "3        2009-01-21              19         1.650012\n",
       "4        2009-01-22               3         1.632184\n",
       "...             ...             ...              ...\n",
       "8755     2009-12-20               4         1.781036\n",
       "8756     2009-12-25               6         1.632369\n",
       "8757     2009-12-13               6         1.655344\n",
       "8758     2009-12-06               3         2.166596\n",
       "8759     2009-12-06               6         2.029165\n",
       "\n",
       "[8760 rows x 3 columns]"
      ]
     },
     "execution_count": 8,
     "metadata": {},
     "output_type": "execute_result"
    }
   ],
   "source": [
    "playground = sandbox()\n",
    "\n",
    "taxis = playground.from_parquet(\"taxis\", [\"../Benchmarks/nyc-taxi/2009/**/*.parquet\"])\n",
    "\n",
    "result = playground.from_sql(\"\"\"\n",
    "    SELECT\n",
    "        CAST(pickup_at as DATE) as pickup_at_date,\n",
    "        EXTRACT('hour' from pickup_at) as pickup_at_hour,                      \n",
    "        AVG(passenger_count) as passenger_count                                                   \n",
    "    FROM taxis\n",
    "    GROUP BY \n",
    "        pickup_at_date, pickup_at_hour                                                                           \n",
    "\"\"\").execute()\n",
    "\n",
    "result.to_pandas()"
   ]
  }
 ],
 "metadata": {
  "kernelspec": {
   "display_name": "Python 3.10.8 ('venv': venv)",
   "language": "python",
   "name": "python3"
  },
  "language_info": {
   "codemirror_mode": {
    "name": "ipython",
    "version": 3
   },
   "file_extension": ".py",
   "mimetype": "text/x-python",
   "name": "python",
   "nbconvert_exporter": "python",
   "pygments_lexer": "ipython3",
   "version": "3.10.8"
  },
  "vscode": {
   "interpreter": {
    "hash": "dd91c1e9d90d869cb5f0a1c3df511ab2b748983196c071e5dcd476d229b12eea"
   }
  }
 },
 "nbformat": 4,
 "nbformat_minor": 5
}
