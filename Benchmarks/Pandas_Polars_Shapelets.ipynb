{
 "cells": [
  {
   "cell_type": "markdown",
   "id": "b7704eed",
   "metadata": {},
   "source": [
    "# Benchmark for big data ingestion and querying\n",
    "\n",
    "## Introduction\n",
    "\n",
    "This notebook provides a quick comparison of the ingestion and querying speed between Shapelets (shapelets-platform) and two well known python libraries for tabular data handling: Pandas and Polars. You will need to have them installed in order to run this benchmark."
   ]
  },
  {
   "cell_type": "code",
   "execution_count": null,
   "id": "382a6e4f",
   "metadata": {},
   "outputs": [],
   "source": [
    "! pip install pandas polars shapelets-platform"
   ]
  },
  {
   "cell_type": "markdown",
   "id": "2108d699",
   "metadata": {},
   "source": [
    "The benchmark is based on the NYC Taxi Dataset, with a size of ~37 Gb. The dataset contains more than 1.5 billion records of taxi trips in the area of New York City during 10 years (2009 to 2019). The dataset consists of .parquet files, one for each month of data.\n",
    "\n",
    "We will be comparing two scenarios: one month of data (~430 Mb) and 1 year of data (~4.6 Gb). The benchmark evaluates two objectives:\n",
    "- Data ingestion \n",
    "- Data querying with aggregation, in order to compute the average number of passengers for each day and month.\n",
    "\n",
    "Please note both the execution times, CPU and memory used by each library, as for instance, Shapelets implementation is the fastest, uses all CPU cores available and does not require loading the data into memory.\n",
    "\n",
    "In order to handle data, Shapelets relies very efficient data structures which rely on a technique named bitmap indexing, implemented in C++. This technique offers particularly good results in huge databases, providing faster retrieval of records and greater efficiency in insert, delete and update operations.\n",
    "\n",
    "When handling time series, temporal indices are discretized and codified as bitmap indices, speeding up operations and providing several advantages, like the ability to store time series sampled at an arbitrarily high frequency.\n",
    "\n",
    "**Note**: if you find a better implementation for Pandas or Polars, feel free to raise an issue in this repo or e-mail us at hello@shapelets.io"
   ]
  },
  {
   "cell_type": "markdown",
   "id": "bc267d2b",
   "metadata": {},
   "source": [
    "## One Month Scenario\n",
    "### Pandas\n"
   ]
  },
  {
   "cell_type": "code",
   "execution_count": 1,
   "id": "21ae8108",
   "metadata": {},
   "outputs": [],
   "source": [
    "import pandas as pd "
   ]
  },
  {
   "cell_type": "code",
   "execution_count": 2,
   "id": "e88c667f",
   "metadata": {},
   "outputs": [
    {
     "data": {
      "text/plain": [
       "            pickup_at\n",
       "2009-01-01  0            1.714221\n",
       "            1            1.723661\n",
       "            2            1.679692\n",
       "            3            1.644623\n",
       "            4            1.566899\n",
       "                           ...   \n",
       "2009-01-31  19           1.834419\n",
       "            20           1.841117\n",
       "            21           1.874803\n",
       "            22           1.901640\n",
       "            23           1.937456\n",
       "Name: passenger_count, Length: 744, dtype: float64"
      ]
     },
     "execution_count": 2,
     "metadata": {},
     "output_type": "execute_result"
    }
   ],
   "source": [
    "df = pd.read_parquet('../Benchmarks/nyc-taxi/2009/01')\n",
    "\n",
    "df['pickup_at'] = pd.to_datetime(df['pickup_at'])\n",
    "df = df.set_index('pickup_at')\n",
    "\n",
    "df.groupby([df.index.date,df.index.hour])['passenger_count'].mean()"
   ]
  },
  {
   "cell_type": "markdown",
   "id": "cdb8f03e",
   "metadata": {},
   "source": [
    "### Polars"
   ]
  },
  {
   "cell_type": "code",
   "execution_count": 3,
   "id": "f02ec9f8",
   "metadata": {},
   "outputs": [],
   "source": [
    "import polars as pl"
   ]
  },
  {
   "cell_type": "code",
   "execution_count": 4,
   "id": "60b55f83",
   "metadata": {},
   "outputs": [
    {
     "data": {
      "text/html": [
       "<div><style>\n",
       ".dataframe > thead > tr,\n",
       ".dataframe > tbody > tr {\n",
       "  text-align: right;\n",
       "  white-space: pre-wrap;\n",
       "}\n",
       "</style>\n",
       "<small>shape: (744, 3)</small><table border=\"1\" class=\"dataframe\"><thead><tr><th>pickup_at_date</th><th>pickup_at_hour</th><th>passenger_count</th></tr><tr><td>date</td><td>i8</td><td>f64</td></tr></thead><tbody><tr><td>2009-01-12</td><td>21</td><td>1.677515</td></tr><tr><td>2009-01-23</td><td>13</td><td>1.615631</td></tr><tr><td>2009-01-30</td><td>23</td><td>1.878042</td></tr><tr><td>2009-01-18</td><td>19</td><td>1.800311</td></tr><tr><td>2009-01-20</td><td>15</td><td>1.647465</td></tr><tr><td>&hellip;</td><td>&hellip;</td><td>&hellip;</td></tr><tr><td>2009-01-17</td><td>20</td><td>1.862211</td></tr><tr><td>2009-01-05</td><td>0</td><td>1.757289</td></tr><tr><td>2009-01-13</td><td>7</td><td>1.538159</td></tr><tr><td>2009-01-25</td><td>18</td><td>1.762946</td></tr><tr><td>2009-01-25</td><td>20</td><td>1.760996</td></tr></tbody></table></div>"
      ],
      "text/plain": [
       "shape: (744, 3)\n",
       "┌────────────────┬────────────────┬─────────────────┐\n",
       "│ pickup_at_date ┆ pickup_at_hour ┆ passenger_count │\n",
       "│ ---            ┆ ---            ┆ ---             │\n",
       "│ date           ┆ i8             ┆ f64             │\n",
       "╞════════════════╪════════════════╪═════════════════╡\n",
       "│ 2009-01-12     ┆ 21             ┆ 1.677515        │\n",
       "│ 2009-01-23     ┆ 13             ┆ 1.615631        │\n",
       "│ 2009-01-30     ┆ 23             ┆ 1.878042        │\n",
       "│ 2009-01-18     ┆ 19             ┆ 1.800311        │\n",
       "│ 2009-01-20     ┆ 15             ┆ 1.647465        │\n",
       "│ …              ┆ …              ┆ …               │\n",
       "│ 2009-01-17     ┆ 20             ┆ 1.862211        │\n",
       "│ 2009-01-05     ┆ 0              ┆ 1.757289        │\n",
       "│ 2009-01-13     ┆ 7              ┆ 1.538159        │\n",
       "│ 2009-01-25     ┆ 18             ┆ 1.762946        │\n",
       "│ 2009-01-25     ┆ 20             ┆ 1.760996        │\n",
       "└────────────────┴────────────────┴─────────────────┘"
      ]
     },
     "execution_count": 4,
     "metadata": {},
     "output_type": "execute_result"
    }
   ],
   "source": [
    "data = pl.scan_parquet('../Benchmarks/nyc-taxi/2009/01/*.parquet')\n",
    "\n",
    "data.group_by(\n",
    "        [\n",
    "            pl.col(\"pickup_at\").cast(pl.Date).alias(\"pickup_at_date\"),\n",
    "            pl.col(\"pickup_at\").dt.hour().alias(\"pickup_at_hour\"),\n",
    "        ]\n",
    "    ).agg(pl.mean(\"passenger_count\")).collect()"
   ]
  },
  {
   "cell_type": "markdown",
   "id": "2f8c0e8a",
   "metadata": {},
   "source": [
    "### Shapelets"
   ]
  },
  {
   "cell_type": "code",
   "execution_count": 6,
   "id": "86be020c",
   "metadata": {},
   "outputs": [],
   "source": [
    "from shapelets.data import sandbox"
   ]
  },
  {
   "cell_type": "code",
   "execution_count": 32,
   "id": "887240f3",
   "metadata": {},
   "outputs": [
    {
     "data": {
      "text/html": [
       "<div>\n",
       "<style scoped>\n",
       "    .dataframe tbody tr th:only-of-type {\n",
       "        vertical-align: middle;\n",
       "    }\n",
       "\n",
       "    .dataframe tbody tr th {\n",
       "        vertical-align: top;\n",
       "    }\n",
       "\n",
       "    .dataframe thead th {\n",
       "        text-align: right;\n",
       "    }\n",
       "</style>\n",
       "<table border=\"1\" class=\"dataframe\">\n",
       "  <thead>\n",
       "    <tr style=\"text-align: right;\">\n",
       "      <th></th>\n",
       "      <th>avg(passenger_count)</th>\n",
       "    </tr>\n",
       "  </thead>\n",
       "  <tbody>\n",
       "    <tr>\n",
       "      <th>0</th>\n",
       "      <td>1.781688</td>\n",
       "    </tr>\n",
       "    <tr>\n",
       "      <th>1</th>\n",
       "      <td>1.731868</td>\n",
       "    </tr>\n",
       "    <tr>\n",
       "      <th>2</th>\n",
       "      <td>1.690869</td>\n",
       "    </tr>\n",
       "    <tr>\n",
       "      <th>3</th>\n",
       "      <td>1.657708</td>\n",
       "    </tr>\n",
       "    <tr>\n",
       "      <th>4</th>\n",
       "      <td>1.586778</td>\n",
       "    </tr>\n",
       "    <tr>\n",
       "      <th>...</th>\n",
       "      <td>...</td>\n",
       "    </tr>\n",
       "    <tr>\n",
       "      <th>739</th>\n",
       "      <td>1.825804</td>\n",
       "    </tr>\n",
       "    <tr>\n",
       "      <th>740</th>\n",
       "      <td>1.837693</td>\n",
       "    </tr>\n",
       "    <tr>\n",
       "      <th>741</th>\n",
       "      <td>1.867162</td>\n",
       "    </tr>\n",
       "    <tr>\n",
       "      <th>742</th>\n",
       "      <td>1.903295</td>\n",
       "    </tr>\n",
       "    <tr>\n",
       "      <th>743</th>\n",
       "      <td>1.927558</td>\n",
       "    </tr>\n",
       "  </tbody>\n",
       "</table>\n",
       "<p>744 rows × 1 columns</p>\n",
       "</div>"
      ],
      "text/plain": [
       "     avg(passenger_count)\n",
       "0                1.781688\n",
       "1                1.731868\n",
       "2                1.690869\n",
       "3                1.657708\n",
       "4                1.586778\n",
       "..                    ...\n",
       "739              1.825804\n",
       "740              1.837693\n",
       "741              1.867162\n",
       "742              1.903295\n",
       "743              1.927558\n",
       "\n",
       "[744 rows x 1 columns]"
      ]
     },
     "execution_count": 32,
     "metadata": {},
     "output_type": "execute_result"
    }
   ],
   "source": [
    "playground = sandbox()\n",
    "\n",
    "taxis = playground.from_parquet(\"taxis\", [\"../Benchmarks/nyc-taxi/2009/01/*.parquet\"])\n",
    "\n",
    "result = playground.from_sql(\"\"\"\n",
    "    SELECT\n",
    "        AVG(passenger_count)                                                    \n",
    "    FROM taxis\n",
    "        GROUP BY extract('day' from dropoff_at), extract('hour' from dropoff_at)                                                                           \n",
    "\"\"\").execute()\n",
    "\n",
    "result.to_pandas()"
   ]
  },
  {
   "cell_type": "markdown",
   "id": "3093b942",
   "metadata": {},
   "source": [
    "## One Year Scenario\n",
    "\n",
    "### Pandas (Large memory consumption - Do not run)"
   ]
  },
  {
   "cell_type": "code",
   "execution_count": null,
   "id": "ad39479c",
   "metadata": {},
   "outputs": [],
   "source": [
    "import pandas as pd \n",
    "\n",
    "df = pd.read_parquet('../Benchmarks/nyc-taxi/2009')\n",
    "\n",
    "df['pickup_at'] = pd.to_datetime(df['pickup_at'])\n",
    "df = df.set_index('pickup_at')\n",
    "\n",
    "df.groupby([df.index.date,df.index.hour])['passenger_count'].mean()"
   ]
  },
  {
   "cell_type": "markdown",
   "id": "552c37f7",
   "metadata": {},
   "source": [
    "### Polars (Large memory consumption)"
   ]
  },
  {
   "cell_type": "code",
   "execution_count": null,
   "id": "9b413bbe",
   "metadata": {},
   "outputs": [],
   "source": [
    "import polars as pl"
   ]
  },
  {
   "cell_type": "code",
   "execution_count": null,
   "id": "850b6043",
   "metadata": {},
   "outputs": [],
   "source": [
    "data = pl.scan_parquet('../Benchmarks/nyc-taxi/2009/**/*.parquet')\n",
    "\n",
    "data.group_by(\n",
    "        [\n",
    "            pl.col(\"pickup_at\").cast(pl.Date).alias(\"pickup_at_date\"),\n",
    "            pl.col(\"pickup_at\").dt.hour().alias(\"pickup_at_hour\"),\n",
    "        ]\n",
    "    ).agg(pl.mean(\"passenger_count\")).collect()"
   ]
  },
  {
   "cell_type": "markdown",
   "id": "877bb895",
   "metadata": {},
   "source": [
    "### Shapelets"
   ]
  },
  {
   "cell_type": "code",
   "execution_count": 33,
   "id": "4fe47292",
   "metadata": {},
   "outputs": [],
   "source": [
    "from shapelets.data import sandbox"
   ]
  },
  {
   "cell_type": "code",
   "execution_count": 34,
   "id": "4c11f564",
   "metadata": {},
   "outputs": [
    {
     "data": {
      "text/html": [
       "<div>\n",
       "<style scoped>\n",
       "    .dataframe tbody tr th:only-of-type {\n",
       "        vertical-align: middle;\n",
       "    }\n",
       "\n",
       "    .dataframe tbody tr th {\n",
       "        vertical-align: top;\n",
       "    }\n",
       "\n",
       "    .dataframe thead th {\n",
       "        text-align: right;\n",
       "    }\n",
       "</style>\n",
       "<table border=\"1\" class=\"dataframe\">\n",
       "  <thead>\n",
       "    <tr style=\"text-align: right;\">\n",
       "      <th></th>\n",
       "      <th>avg(passenger_count)</th>\n",
       "    </tr>\n",
       "  </thead>\n",
       "  <tbody>\n",
       "    <tr>\n",
       "      <th>0</th>\n",
       "      <td>1.791567</td>\n",
       "    </tr>\n",
       "    <tr>\n",
       "      <th>1</th>\n",
       "      <td>1.804884</td>\n",
       "    </tr>\n",
       "    <tr>\n",
       "      <th>2</th>\n",
       "      <td>1.790727</td>\n",
       "    </tr>\n",
       "    <tr>\n",
       "      <th>3</th>\n",
       "      <td>1.781031</td>\n",
       "    </tr>\n",
       "    <tr>\n",
       "      <th>4</th>\n",
       "      <td>1.732054</td>\n",
       "    </tr>\n",
       "    <tr>\n",
       "      <th>...</th>\n",
       "      <td>...</td>\n",
       "    </tr>\n",
       "    <tr>\n",
       "      <th>739</th>\n",
       "      <td>1.769948</td>\n",
       "    </tr>\n",
       "    <tr>\n",
       "      <th>740</th>\n",
       "      <td>1.796585</td>\n",
       "    </tr>\n",
       "    <tr>\n",
       "      <th>741</th>\n",
       "      <td>1.841991</td>\n",
       "    </tr>\n",
       "    <tr>\n",
       "      <th>742</th>\n",
       "      <td>1.860486</td>\n",
       "    </tr>\n",
       "    <tr>\n",
       "      <th>743</th>\n",
       "      <td>1.866286</td>\n",
       "    </tr>\n",
       "  </tbody>\n",
       "</table>\n",
       "<p>744 rows × 1 columns</p>\n",
       "</div>"
      ],
      "text/plain": [
       "     avg(passenger_count)\n",
       "0                1.791567\n",
       "1                1.804884\n",
       "2                1.790727\n",
       "3                1.781031\n",
       "4                1.732054\n",
       "..                    ...\n",
       "739              1.769948\n",
       "740              1.796585\n",
       "741              1.841991\n",
       "742              1.860486\n",
       "743              1.866286\n",
       "\n",
       "[744 rows x 1 columns]"
      ]
     },
     "execution_count": 34,
     "metadata": {},
     "output_type": "execute_result"
    }
   ],
   "source": [
    "playground = sandbox()\n",
    "\n",
    "taxis = playground.from_parquet(\"taxis\", [\"../Benchmarks/nyc-taxi/2009/**/*.parquet\"])\n",
    "\n",
    "result = playground.from_sql(\"\"\"\n",
    "    SELECT\n",
    "        AVG(passenger_count)                                                    \n",
    "    FROM taxis\n",
    "        GROUP BY extract('day' from dropoff_at), extract('hour' from dropoff_at)                                                                           \n",
    "\"\"\").execute()\n",
    "\n",
    "result.to_pandas()"
   ]
  }
 ],
 "metadata": {
  "kernelspec": {
   "display_name": "Python 3.10.8 ('venv': venv)",
   "language": "python",
   "name": "python3"
  },
  "language_info": {
   "codemirror_mode": {
    "name": "ipython",
    "version": 3
   },
   "file_extension": ".py",
   "mimetype": "text/x-python",
   "name": "python",
   "nbconvert_exporter": "python",
   "pygments_lexer": "ipython3",
   "version": "3.10.8"
  },
  "vscode": {
   "interpreter": {
    "hash": "dd91c1e9d90d869cb5f0a1c3df511ab2b748983196c071e5dcd476d229b12eea"
   }
  }
 },
 "nbformat": 4,
 "nbformat_minor": 5
}
