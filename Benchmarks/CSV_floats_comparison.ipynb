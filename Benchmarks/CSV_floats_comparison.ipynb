{
 "cells": [
  {
   "cell_type": "code",
   "execution_count": 1,
   "metadata": {},
   "outputs": [],
   "source": [
    "from shapelets.data import sandbox\n",
    "import numpy as np\n",
    "\n",
    "# Create sample CSV files with 5M rows and 600 MB on disk\n",
    "num_rows = 5000000\n",
    "data_dict = {\"floats1\":np.random.random_sample(size = num_rows),\n",
    "              \"floats2\":np.random.random_sample(size = num_rows),\n",
    "              \"floats3\":np.random.random_sample(size = num_rows),\n",
    "              \"floats4\":np.random.random_sample(size = num_rows),\n",
    "              \"floats5\":np.random.random_sample(size = num_rows),\n",
    "              \"floats6\":np.random.random_sample(size = num_rows),\n",
    "              \"floats7\":np.random.random_sample(size = num_rows)}\n",
    "data = sandbox().from_values('data', data_dict)\n",
    "data.to_csv('sample.csv')"
   ]
  },
  {
   "cell_type": "code",
   "execution_count": 3,
   "metadata": {},
   "outputs": [
    {
     "name": "stdout",
     "output_type": "stream",
     "text": [
      "CSV Import time (Pandas): 4.05\n",
      "CSV Import time (Pyarrow): 4.05\n",
      "CSV Import time (Polars): 0.41\n",
      "CSV Import time (Shapelets): 0.26\n"
     ]
    }
   ],
   "source": [
    "import pandas as pd\n",
    "import polars as pl\n",
    "from shapelets.data import sandbox\n",
    "import timeit\n",
    "\n",
    "pandas_time = timeit.timeit(lambda: pd.read_csv('sample.csv'), number=1)\n",
    "print(f\"CSV Import time (Pandas): {round(pandas_time,2)}\")\n",
    "\n",
    "pyarrow_time = timeit.timeit(lambda: pd.read_csv('sample.csv', engine='pyarrow'), number=1)\n",
    "print(f\"CSV Import time (Pyarrow): {round(pandas_time,2)}\")\n",
    "\n",
    "polars_time = timeit.timeit(lambda: pl.read_csv('sample.csv'), number=1)\n",
    "print(f\"CSV Import time (Polars): {round(polars_time,2)}\")\n",
    "\n",
    "shapelets_time  = timeit.timeit(lambda: sandbox().from_csv('data',['sample.csv']), number=1)\n",
    "print(f\"CSV Import time (Shapelets): {round(shapelets_time,2)}\")\n"
   ]
  }
 ],
 "metadata": {
  "kernelspec": {
   "display_name": ".venv",
   "language": "python",
   "name": "python3"
  },
  "language_info": {
   "codemirror_mode": {
    "name": "ipython",
    "version": 3
   },
   "file_extension": ".py",
   "mimetype": "text/x-python",
   "name": "python",
   "nbconvert_exporter": "python",
   "pygments_lexer": "ipython3",
   "version": "3.10.8"
  }
 },
 "nbformat": 4,
 "nbformat_minor": 2
}
